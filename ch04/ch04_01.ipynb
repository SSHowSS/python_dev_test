{
 "cells": [
  {
   "cell_type": "code",
   "execution_count": 12,
   "metadata": {},
   "outputs": [],
   "source": [
    "#쓰기 파일이 없으면 생성\n",
    "f = open('testfile.txt', 'w') #path/파일명.확장자 :path경로가 없으면 현재 디렉토리 \n",
    "#파일 쓰기 코드\n",
    "f.write(\"karina\")\n",
    "#파일 닫기\n",
    "f.close()\n"
   ]
  },
  {
   "cell_type": "code",
   "execution_count": 13,
   "metadata": {},
   "outputs": [],
   "source": [
    "f = open('./testfile.txt', 'r') #읽기\n",
    "#print(f.read()) #read모드에서 파일이 없으면 ERROR FileNotFoundException\n",
    "f.close()"
   ]
  },
  {
   "cell_type": "code",
   "execution_count": 14,
   "metadata": {},
   "outputs": [],
   "source": [
    "f=open('testfile.txt','w')\n",
    "for i in range(11):\n",
    "    line=f'{i}번째 줄\\n'\n",
    "    f.write(line)\n",
    "\n",
    "f.close()"
   ]
  },
  {
   "cell_type": "code",
   "execution_count": 16,
   "metadata": {},
   "outputs": [
    {
     "name": "stdout",
     "output_type": "stream",
     "text": [
      "0번째 줄\n",
      "1번째 줄\n",
      "2번째 줄\n",
      "3번째 줄\n",
      "4번째 줄\n",
      "5번째 줄\n",
      "6번째 줄\n",
      "7번째 줄\n",
      "8번째 줄\n",
      "9번째 줄\n",
      "10번째 줄\n"
     ]
    }
   ],
   "source": [
    "f = open('./testfile.txt', 'r')\n",
    "lines=f.readlines()\n",
    "for line in lines:\n",
    "    print(line, end=\"\")\n",
    "f.close()"
   ]
  },
  {
   "cell_type": "code",
   "execution_count": 10,
   "metadata": {},
   "outputs": [],
   "source": [
    "f=open('testfile.txt','a')\n",
    "for i in range(3):\n",
    "    line=f'{i}번째 줄A\\n'\n",
    "    f.write(line)\n",
    "\n",
    "f.close()"
   ]
  },
  {
   "cell_type": "code",
   "execution_count": 17,
   "metadata": {},
   "outputs": [
    {
     "name": "stdout",
     "output_type": "stream",
     "text": [
      "0번째 줄\n"
     ]
    }
   ],
   "source": [
    "f = open('testfile.txt', 'r')\n",
    "line=f.readline()\n",
    "print(line, end=\"\")\n",
    "f.close()"
   ]
  },
  {
   "cell_type": "code",
   "execution_count": 18,
   "metadata": {},
   "outputs": [
    {
     "name": "stdout",
     "output_type": "stream",
     "text": [
      "0번째 줄\n",
      "1번째 줄\n",
      "2번째 줄\n",
      "3번째 줄\n",
      "4번째 줄\n",
      "5번째 줄\n",
      "6번째 줄\n",
      "7번째 줄\n",
      "8번째 줄\n",
      "9번째 줄\n",
      "10번째 줄\n"
     ]
    }
   ],
   "source": [
    "f = open('testfile.txt', 'r')\n",
    "while True:\n",
    "    line=f.readline()\n",
    "    if not line: \n",
    "        break\n",
    "    print(line, end=\"\")\n",
    "    \n",
    "f.close()"
   ]
  },
  {
   "cell_type": "code",
   "execution_count": 19,
   "metadata": {},
   "outputs": [
    {
     "name": "stdout",
     "output_type": "stream",
     "text": [
      "0번째 줄\n",
      "1번째 줄\n",
      "2번째 줄\n",
      "3번째 줄\n",
      "4번째 줄\n",
      "5번째 줄\n",
      "6번째 줄\n",
      "7번째 줄\n",
      "8번째 줄\n",
      "9번째 줄\n",
      "10번째 줄\n"
     ]
    }
   ],
   "source": [
    "f = open('testfile.txt', 'r')\n",
    "lines=f.readlines() #return [line, line, ... , line ]\n",
    "for line in lines:\n",
    "    print(line, end=\"\")\n",
    "f.close()"
   ]
  },
  {
   "cell_type": "code",
   "execution_count": 20,
   "metadata": {},
   "outputs": [
    {
     "name": "stdout",
     "output_type": "stream",
     "text": [
      "0번째 줄\n",
      "1번째 줄\n",
      "2번째 줄\n",
      "3번째 줄\n",
      "4번째 줄\n",
      "5번째 줄\n",
      "6번째 줄\n",
      "7번째 줄\n",
      "8번째 줄\n",
      "9번째 줄\n",
      "10번째 줄\n",
      "\n"
     ]
    }
   ],
   "source": [
    "f = open('testfile.txt', 'r')\n",
    "data = f.read() #문자열 1줄로 반환\n",
    "print(data)\n",
    "\n",
    "f.close()"
   ]
  },
  {
   "cell_type": "code",
   "execution_count": 21,
   "metadata": {},
   "outputs": [
    {
     "data": {
      "text/plain": [
       "'0번째 줄\\n1번째 줄\\n2번째 줄\\n3번째 줄\\n4번째 줄\\n5번째 줄\\n6번째 줄\\n7번째 줄\\n8번째 줄\\n9번째 줄\\n10번째 줄\\n'"
      ]
     },
     "metadata": {},
     "output_type": "display_data"
    }
   ],
   "source": [
    "f = open('testfile.txt', 'r')\n",
    "data = f.read() #문자열 1줄로 반환\n",
    "display(data) #데이터 확인할때 \n",
    "f.close()"
   ]
  },
  {
   "cell_type": "code",
   "execution_count": 22,
   "metadata": {},
   "outputs": [],
   "source": [
    "f = open('testfile.txt', 'a')\n",
    "data = '100번째 줄'\n",
    "f.write(data)\n",
    "f.close()"
   ]
  },
  {
   "cell_type": "code",
   "execution_count": 23,
   "metadata": {},
   "outputs": [],
   "source": [
    "#with 사용 : 자동 close()\n",
    "\n",
    "with open('push.txt','w') as f:\n",
    "    f.write('ppppppppppppppp')\n",
    "\n",
    "#with block이 끝냐면 자동 close\n"
   ]
  },
  {
   "cell_type": "markdown",
   "metadata": {},
   "source": []
  },
  {
   "cell_type": "code",
   "execution_count": null,
   "metadata": {},
   "outputs": [],
   "source": []
  },
  {
   "cell_type": "code",
   "execution_count": null,
   "metadata": {},
   "outputs": [],
   "source": []
  },
  {
   "cell_type": "code",
   "execution_count": null,
   "metadata": {},
   "outputs": [],
   "source": []
  }
 ],
 "metadata": {
  "kernelspec": {
   "display_name": "test",
   "language": "python",
   "name": "test"
  },
  "language_info": {
   "codemirror_mode": {
    "name": "ipython",
    "version": 3
   },
   "file_extension": ".py",
   "mimetype": "text/x-python",
   "name": "python",
   "nbconvert_exporter": "python",
   "pygments_lexer": "ipython3",
   "version": "3.9.18"
  }
 },
 "nbformat": 4,
 "nbformat_minor": 2
}
