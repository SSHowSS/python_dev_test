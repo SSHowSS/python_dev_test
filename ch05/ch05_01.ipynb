{
 "cells": [
  {
   "cell_type": "code",
   "execution_count": 5,
   "metadata": {},
   "outputs": [],
   "source": [
    "class Programmer:\n",
    "    pass"
   ]
  },
  {
   "cell_type": "code",
   "execution_count": 6,
   "metadata": {},
   "outputs": [],
   "source": [
    "kim=Programmer()\n",
    "son=Programmer()"
   ]
  },
  {
   "cell_type": "code",
   "execution_count": 7,
   "metadata": {},
   "outputs": [
    {
     "name": "stdout",
     "output_type": "stream",
     "text": [
      "홍길동\n"
     ]
    }
   ],
   "source": [
    "kim.name='홍길동'  #동적 할당 \n",
    "print(kim.name)\n"
   ]
  },
  {
   "cell_type": "code",
   "execution_count": 10,
   "metadata": {},
   "outputs": [
    {
     "name": "stdout",
     "output_type": "stream",
     "text": [
      "30\n"
     ]
    },
    {
     "ename": "AttributeError",
     "evalue": "'Programmer' object has no attribute 'age'",
     "output_type": "error",
     "traceback": [
      "\u001b[1;31m---------------------------------------------------------------------------\u001b[0m",
      "\u001b[1;31mAttributeError\u001b[0m                            Traceback (most recent call last)",
      "\u001b[1;32mc:\\education\\python_dev\\ch05\\ch05_01.ipynb 셀 4\u001b[0m line \u001b[0;36m3\n\u001b[0;32m      <a href='vscode-notebook-cell:/c%3A/education/python_dev/ch05/ch05_01.ipynb#W3sZmlsZQ%3D%3D?line=0'>1</a>\u001b[0m son\u001b[39m.\u001b[39mage\u001b[39m=\u001b[39m\u001b[39m30\u001b[39m\n\u001b[0;32m      <a href='vscode-notebook-cell:/c%3A/education/python_dev/ch05/ch05_01.ipynb#W3sZmlsZQ%3D%3D?line=1'>2</a>\u001b[0m \u001b[39mprint\u001b[39m(son\u001b[39m.\u001b[39mage)\n\u001b[1;32m----> <a href='vscode-notebook-cell:/c%3A/education/python_dev/ch05/ch05_01.ipynb#W3sZmlsZQ%3D%3D?line=2'>3</a>\u001b[0m \u001b[39mprint\u001b[39m(kim\u001b[39m.\u001b[39;49mage)\n",
      "\u001b[1;31mAttributeError\u001b[0m: 'Programmer' object has no attribute 'age'"
     ]
    }
   ],
   "source": [
    "son.age=30\n",
    "print(son.age)\n",
    "print(kim.age)"
   ]
  },
  {
   "cell_type": "code",
   "execution_count": null,
   "metadata": {},
   "outputs": [
    {
     "name": "stdout",
     "output_type": "stream",
     "text": [
      "우리혁\n",
      "신상혁\n",
      "우리혁\n"
     ]
    }
   ],
   "source": [
    "t1=Faker()\n",
    "print(t1.name)\n",
    "t1.name='신상혁'\n",
    "print(t1.name)\n",
    "\n",
    "\n",
    "god=Faker()\n",
    "print(god.name)\n"
   ]
  },
  {
   "cell_type": "code",
   "execution_count": 37,
   "metadata": {},
   "outputs": [],
   "source": [
    "class Faker:\n",
    "    #클래스의 변수 | 자바 : static으로 선언된 변수\n",
    "    name='대상혁'\n",
    "    def mid(self,a,b): #멤버 메소드 선언 (self가 있어야 멤버 변수에 접근 가능함)\n",
    "        result = a + b\n",
    "        print(f'{a}+{b}={self.name}+{result}')"
   ]
  },
  {
   "cell_type": "code",
   "execution_count": 38,
   "metadata": {},
   "outputs": [
    {
     "name": "stdout",
     "output_type": "stream",
     "text": [
      "이상혁+신상혁=대상혁+이상혁신상혁\n"
     ]
    }
   ],
   "source": [
    "name=Faker()\n",
    "name.mid('이상혁','신상혁')"
   ]
  },
  {
   "cell_type": "code",
   "execution_count": 40,
   "metadata": {},
   "outputs": [
    {
     "name": "stdout",
     "output_type": "stream",
     "text": [
      "알파카+혁규=AD+알파카혁규\n"
     ]
    }
   ],
   "source": [
    "class deft:\n",
    "    #클래스의 변수 | 자바 : static으로 선언된 변수\n",
    "    position='AD'\n",
    "    def ad(self,a,b): #멤버 메소드 선언 (self가 있어야 멤버 변수에 접근 가능함)\n",
    "        self.result = a + b  #self. 변수 선언하면 object에 변수 생성됨(local(def내)이 아니라 object(멤버변수)에 생성됨)\n",
    "        print(f'{a}+{b}={self.position}{self.result}') #result에 self가 빠지면 local 변수 result를 찾아서 에러\n",
    "\n",
    "name2=deft()\n",
    "name2.ad('알파카','혁규')"
   ]
  },
  {
   "cell_type": "code",
   "execution_count": 44,
   "metadata": {},
   "outputs": [
    {
     "name": "stdout",
     "output_type": "stream",
     "text": [
      "1+2=5\n",
      "1+2=3\n"
     ]
    }
   ],
   "source": [
    "class Service:\n",
    "    secret=10   #static 변수, 클래스 변수\n",
    "    def func(): #static 메소드 , 클래스 메소드\n",
    "        print('func')\n",
    "    \n",
    "    def sum(self,a,b): #멤버 메소드 선언\n",
    "        result = a+b+2 #local 변수\n",
    "        self.result = a+b #멤버 변수\n",
    "        print(f'{a}+{b}={result}')\n",
    "        print(f'{a}+{b}={self.result}')\n",
    "        \n",
    "aaa=Service()\n",
    "aaa.sum(1,2)"
   ]
  },
  {
   "cell_type": "code",
   "execution_count": 47,
   "metadata": {},
   "outputs": [
    {
     "name": "stdout",
     "output_type": "stream",
     "text": [
      "func\n"
     ]
    }
   ],
   "source": [
    "Service.func()"
   ]
  },
  {
   "cell_type": "code",
   "execution_count": 49,
   "metadata": {},
   "outputs": [
    {
     "name": "stdout",
     "output_type": "stream",
     "text": [
      "1+3=6\n",
      "1+3=4\n"
     ]
    }
   ],
   "source": [
    "bbb=Service()\n",
    "bbb.sum(1,3)"
   ]
  },
  {
   "cell_type": "code",
   "execution_count": 55,
   "metadata": {},
   "outputs": [],
   "source": [
    "class Marin:\n",
    "    def __init__(self,name) :\n",
    "        self.name=name\n",
    "        self.attackName='총'\n",
    "    \n",
    "    def attack(self):\n",
    "        print(f'{self.name}이 {self.attackName} 공격')"
   ]
  },
  {
   "cell_type": "code",
   "execution_count": 54,
   "metadata": {},
   "outputs": [
    {
     "name": "stdout",
     "output_type": "stream",
     "text": [
      "마린1이gun 공격\n"
     ]
    }
   ],
   "source": [
    "m1=Marin('마린1')\n",
    "m1.attack()"
   ]
  },
  {
   "cell_type": "code",
   "execution_count": 1,
   "metadata": {},
   "outputs": [],
   "source": [
    "class FourCal():\n",
    "    def setData(self, first, second):\n",
    "        self.first=first\n",
    "        self.second=second\n",
    "    def sum(self):\n",
    "        return self.first + self.second\n",
    "    def sub(self):\n",
    "        return self.first - self.second"
   ]
  },
  {
   "cell_type": "code",
   "execution_count": 59,
   "metadata": {},
   "outputs": [],
   "source": [
    "class HousePark:\n",
    "    lastName='유' #모두 유씨 성을 가진다.\n",
    "    def __init__(self,name) -> None:\n",
    "        self.fullName=self.lastName+name\n",
    "    \n",
    "    # def firstName(self,name):\n",
    "    #     self.fullName=HousePark.lastName+name\n",
    "    def travel(self,where):\n",
    "        print(f'{self.fullName}이 {where}로 간다')\n",
    "    \n",
    "    def __add__(self,other):\n",
    "        print(f'{self.fullName}과 {other.fullName} 결혼했다.')\n",
    "    def __sub__(self,other):\n",
    "        print (f'{self.fullName}과 {other.fullName} 이혼했다...')\n",
    "\n",
    "#park 상속 받기\n",
    "class HouseKim(HousePark):\n",
    "    lastName='김'\n",
    "    #오버 라이딩 (재정의)\n",
    "    def travel(self, where):\n",
    "        print(f'{self.fullName}은 {where}로 갔다.')\n",
    "        \n",
    "    def __add__(self, other):\n",
    "        print(f'{self.fullName}은 {other.fullName}결혼 했음')\n"
   ]
  },
  {
   "cell_type": "code",
   "execution_count": 61,
   "metadata": {},
   "outputs": [
    {
     "name": "stdout",
     "output_type": "stream",
     "text": [
      "유지민\n",
      "유지민이 부산로 간다\n"
     ]
    }
   ],
   "source": [
    "karina=HousePark('지민')\n",
    "# human.firstName('보영')\n",
    "print(karina.fullName)\n",
    "karina.travel(where='부산')"
   ]
  },
  {
   "cell_type": "code",
   "execution_count": 62,
   "metadata": {},
   "outputs": [
    {
     "name": "stdout",
     "output_type": "stream",
     "text": [
      "김민정은 제주로 갔다.\n"
     ]
    }
   ],
   "source": [
    "winter = HouseKim(\"민정\")\n",
    "winter.travel('제주')"
   ]
  },
  {
   "cell_type": "code",
   "execution_count": 63,
   "metadata": {},
   "outputs": [
    {
     "name": "stdout",
     "output_type": "stream",
     "text": [
      "유지민과 김민정 결혼했다.\n"
     ]
    }
   ],
   "source": [
    "karina+winter"
   ]
  },
  {
   "cell_type": "code",
   "execution_count": 64,
   "metadata": {},
   "outputs": [
    {
     "name": "stdout",
     "output_type": "stream",
     "text": [
      "유지민과 김민정 이혼했다...\n"
     ]
    }
   ],
   "source": [
    "karina-winter"
   ]
  },
  {
   "cell_type": "code",
   "execution_count": 65,
   "metadata": {},
   "outputs": [
    {
     "name": "stdout",
     "output_type": "stream",
     "text": [
      "김민정은 유지민결혼 했음\n"
     ]
    }
   ],
   "source": [
    "winter+karina"
   ]
  },
  {
   "cell_type": "code",
   "execution_count": 67,
   "metadata": {},
   "outputs": [
    {
     "name": "stdout",
     "output_type": "stream",
     "text": [
      "김민정과 유지민 이혼했다...\n"
     ]
    }
   ],
   "source": [
    "winter-karina"
   ]
  },
  {
   "cell_type": "code",
   "execution_count": null,
   "metadata": {},
   "outputs": [],
   "source": []
  },
  {
   "cell_type": "code",
   "execution_count": null,
   "metadata": {},
   "outputs": [],
   "source": []
  }
 ],
 "metadata": {
  "kernelspec": {
   "display_name": "test",
   "language": "python",
   "name": "test"
  },
  "language_info": {
   "codemirror_mode": {
    "name": "ipython",
    "version": 3
   },
   "file_extension": ".py",
   "mimetype": "text/x-python",
   "name": "python",
   "nbconvert_exporter": "python",
   "pygments_lexer": "ipython3",
   "version": "3.9.18"
  }
 },
 "nbformat": 4,
 "nbformat_minor": 2
}
